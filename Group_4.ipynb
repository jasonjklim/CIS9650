{
 "cells": [
  {
   "attachments": {},
   "cell_type": "markdown",
   "metadata": {},
   "source": [
    "# 1.\tPick Data\n",
    "\n",
    "\n",
    "#### Due : 12/8\n",
    "•\tPick and choose 30 securities <br>\n",
    "•\tYou may choose securities such as stocks, bonds, ETFs, index funds, treasury notes, oil, gold, currency pairs, commodity futures, bitcoins, etc… <br>\n",
    "•\tMust be publicly traded on an exchange <br>\n",
    "•\tIt must have public historical data available online <br>\n",
    "•\tShould have closing price or something to calculate the % change (returns)\n",
    "\n"
   ]
  },
  {
   "cell_type": "code",
   "execution_count": null,
   "metadata": {},
   "outputs": [],
   "source": []
  },
  {
   "cell_type": "code",
   "execution_count": null,
   "metadata": {},
   "outputs": [],
   "source": []
  },
  {
   "attachments": {},
   "cell_type": "markdown",
   "metadata": {},
   "source": [
    "# 2.\tGather the Data\n",
    "\n",
    "#### Due : 12/8\n",
    "•\tDownload one year’s worth of closing prices for each security (1/1/18 - 12/31/18) <br>\n",
    "•\tUsing pandas or any other libraries, import the data into your program <br>\n",
    "•\tDo not use flat files (CSVs or spreadsheet)"
   ]
  },
  {
   "cell_type": "code",
   "execution_count": null,
   "metadata": {},
   "outputs": [],
   "source": []
  },
  {
   "cell_type": "code",
   "execution_count": null,
   "metadata": {},
   "outputs": [],
   "source": []
  },
  {
   "attachments": {},
   "cell_type": "markdown",
   "metadata": {},
   "source": [
    "# 3.\tCorrelation Analysis\n",
    "\n",
    "#### Jason Lim\n",
    "\n",
    "#### Due : 12/10\n",
    "•\tCalculate the daily % change (returns) of all 30 securities <br>\n",
    "•\tUsing the returns, calculate the correlation coefficient of each security against the other 29 securities<br>\n",
    "•\tFind the pair with the strongest positive correlation (closest to 1)<br>\n",
    "•\tFind the pair with the strongest negative correlation (close to -1)<br>\n",
    "•\tGraph the correlations as a 30 x 30 matrix heatmap (see below)\n"
   ]
  },
  {
   "cell_type": "code",
   "execution_count": null,
   "metadata": {},
   "outputs": [],
   "source": []
  },
  {
   "cell_type": "code",
   "execution_count": null,
   "metadata": {},
   "outputs": [],
   "source": []
  },
  {
   "cell_type": "markdown",
   "metadata": {},
   "source": [
    "# 4.\tRegression Analysis\n",
    "\n",
    "#### Due 12/12\n",
    "•\tRegress the daily % change (returns) of the pair with the strongest positive correlation<br>\n",
    "•\tRegress the daily % change (returns) of the pair with the strongest negative correlation<br>\n",
    "•\tThe independent and dependent variable can be your choice<br>\n",
    "•\tCalculate the equation (slope and intercept) of the regression model<br>\n",
    "•\tCalculate the R2 and the Mean squared error<br>\n",
    "•\tGraph the data using a scatter plot and then graph the linear regression model as a line<br>\n",
    "•\tUsing the closing prices from this week, test your equation. How does it fit?\n"
   ]
  },
  {
   "cell_type": "code",
   "execution_count": null,
   "metadata": {},
   "outputs": [],
   "source": []
  },
  {
   "cell_type": "code",
   "execution_count": null,
   "metadata": {},
   "outputs": [],
   "source": []
  },
  {
   "cell_type": "markdown",
   "metadata": {},
   "source": [
    "# 5.\tWrite-up\n",
    "\n",
    "#### Due 12/16\n",
    "•\tWrite a one-page summary report<br>\n",
    "•\tIntroduction<br>\n",
    "o\tWhat are the securities you picked?<br>\n",
    "o\tIf available, what is the industry/sector?<br>\n",
    "o\tWhat is the exchange that the security is traded? What hours?<br>\n",
    "•\tFindings<br>\n",
    "o\tWhat is correlation analysis?<br>\n",
    "o\tWhat is regression analysis?<br>\n",
    "o\tWhat did you find in your analysis?<br>\n",
    "o\tWhy does analyzing the % change give you better results than comparing actual daily returns?<br>\n",
    "•\tConclusion\n"
   ]
  },
  {
   "cell_type": "code",
   "execution_count": null,
   "metadata": {},
   "outputs": [],
   "source": []
  },
  {
   "cell_type": "code",
   "execution_count": null,
   "metadata": {},
   "outputs": [],
   "source": []
  }
 ],
 "metadata": {
  "kernelspec": {
   "display_name": "Python 3",
   "language": "python",
   "name": "python3"
  },
  "language_info": {
   "codemirror_mode": {
    "name": "ipython",
    "version": 3
   },
   "file_extension": ".py",
   "mimetype": "text/x-python",
   "name": "python",
   "nbconvert_exporter": "python",
   "pygments_lexer": "ipython3",
   "version": "3.7.4"
  }
 },
 "nbformat": 4,
 "nbformat_minor": 2
}
